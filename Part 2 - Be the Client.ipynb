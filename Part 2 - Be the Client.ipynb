{
 "cells": [
  {
   "cell_type": "code",
   "execution_count": 1,
   "metadata": {},
   "outputs": [],
   "source": [
    "import requests\n",
    "import pandas as pd"
   ]
  },
  {
   "cell_type": "markdown",
   "metadata": {},
   "source": [
    "Berikut beberapa API gratis yang bisa kita pakai untuk belajar:\n",
    "\n",
    "Joke API\n",
    "\n",
    "- random joke: https://official-joke-api.appspot.com/jokes/random\n",
    "- 10 random jokes: https://official-joke-api.appspot.com/jokes/ten\n",
    "\n",
    "Name2Gender API\n",
    "\n",
    "- input nama: https://api.genderize.io?name=peter\n",
    "- input negara: https://api.genderize.io?name=peter&country_id=US\n",
    "\n",
    "Public Holiday API\n",
    "\n",
    "xkcd comic API\n",
    "\n",
    "- comic terbaru: http://xkcd.com/info.0.json\n",
    "- comic ke-614: http://xkcd.com/614/info.0.json"
   ]
  },
  {
   "cell_type": "markdown",
   "metadata": {},
   "source": [
    "# GET Request"
   ]
  },
  {
   "cell_type": "code",
   "execution_count": 2,
   "metadata": {},
   "outputs": [
    {
     "data": {
      "text/plain": [
       "200"
      ]
     },
     "execution_count": 2,
     "metadata": {},
     "output_type": "execute_result"
    }
   ],
   "source": [
    "r = requests.get('https://official-joke-api.appspot.com/jokes/random')\n",
    "r.status_code"
   ]
  },
  {
   "cell_type": "code",
   "execution_count": 3,
   "metadata": {},
   "outputs": [
    {
     "data": {
      "text/plain": [
       "'{\"type\":\"general\",\"setup\":\"How much does a hipster weigh?\",\"punchline\":\"An instagram.\",\"id\":144}'"
      ]
     },
     "execution_count": 3,
     "metadata": {},
     "output_type": "execute_result"
    }
   ],
   "source": [
    "r.text"
   ]
  },
  {
   "cell_type": "code",
   "execution_count": 4,
   "metadata": {},
   "outputs": [
    {
     "data": {
      "text/plain": [
       "{'type': 'general',\n",
       " 'setup': 'How much does a hipster weigh?',\n",
       " 'punchline': 'An instagram.',\n",
       " 'id': 144}"
      ]
     },
     "execution_count": 4,
     "metadata": {},
     "output_type": "execute_result"
    }
   ],
   "source": [
    "r.json()"
   ]
  },
  {
   "cell_type": "markdown",
   "metadata": {},
   "source": [
    "# GET Request dengan parameter"
   ]
  },
  {
   "cell_type": "code",
   "execution_count": 7,
   "metadata": {},
   "outputs": [
    {
     "data": {
      "text/plain": [
       "<Response [422]>"
      ]
     },
     "execution_count": 7,
     "metadata": {},
     "output_type": "execute_result"
    }
   ],
   "source": [
    "r = requests.get('https://api.genderize.io') # jika tidak menggunakan parameter error\n",
    "r"
   ]
  },
  {
   "cell_type": "markdown",
   "metadata": {},
   "source": [
    "HTTP Status Code\n",
    "- 1xx: Informational\n",
    "Request sudah diterima dan proses dilanjutkan\n",
    "\n",
    "- 2xx: Success\n",
    "Action berjalan dengan baik\n",
    "\n",
    "- 3xx: Redirection\n",
    "Butuh action tambahan untuk menyelesaikan request\n",
    "\n",
    "- 4xx: Client Error\n",
    "Ada error di sisi client (yang meminta request)\n",
    "\n",
    "- 5xx: Server Error\n",
    "Ada error di sisi server (server gagal memenuhi request si client)\n",
    "\n",
    "Cek lengkapnya di wikipedia."
   ]
  },
  {
   "cell_type": "code",
   "execution_count": 8,
   "metadata": {},
   "outputs": [
    {
     "data": {
      "text/plain": [
       "{'error': \"Missing 'name' parameter\"}"
      ]
     },
     "execution_count": 8,
     "metadata": {},
     "output_type": "execute_result"
    }
   ],
   "source": [
    "r.json()"
   ]
  },
  {
   "cell_type": "markdown",
   "metadata": {},
   "source": [
    "## input parameter pakai ?"
   ]
  },
  {
   "cell_type": "code",
   "execution_count": 9,
   "metadata": {},
   "outputs": [
    {
     "data": {
      "text/plain": [
       "<Response [200]>"
      ]
     },
     "execution_count": 9,
     "metadata": {},
     "output_type": "execute_result"
    }
   ],
   "source": [
    "r = requests.get('https://api.genderize.io?name=akmal')\n",
    "r"
   ]
  },
  {
   "cell_type": "code",
   "execution_count": 10,
   "metadata": {},
   "outputs": [
    {
     "data": {
      "text/plain": [
       "{'count': 19263, 'name': 'akmal', 'gender': 'male', 'probability': 0.97}"
      ]
     },
     "execution_count": 10,
     "metadata": {},
     "output_type": "execute_result"
    }
   ],
   "source": [
    "r.json()"
   ]
  },
  {
   "cell_type": "markdown",
   "metadata": {},
   "source": [
    "## input parameter pakai dictionary"
   ]
  },
  {
   "cell_type": "code",
   "execution_count": 11,
   "metadata": {},
   "outputs": [
    {
     "data": {
      "text/plain": [
       "200"
      ]
     },
     "execution_count": 11,
     "metadata": {},
     "output_type": "execute_result"
    }
   ],
   "source": [
    "params = {\n",
    "    'name': 'among',\n",
    "    'country_id': 'ID'\n",
    "}\n",
    "\n",
    "r = requests.get('https://api.genderize.io', params=params)\n",
    "r.status_code"
   ]
  },
  {
   "cell_type": "code",
   "execution_count": 12,
   "metadata": {},
   "outputs": [
    {
     "data": {
      "text/plain": [
       "{'count': 10,\n",
       " 'name': 'among',\n",
       " 'country_id': 'ID',\n",
       " 'gender': 'male',\n",
       " 'probability': 0.9}"
      ]
     },
     "execution_count": 12,
     "metadata": {},
     "output_type": "execute_result"
    }
   ],
   "source": [
    "r.json()"
   ]
  },
  {
   "cell_type": "markdown",
   "metadata": {},
   "source": [
    "# Exercise 1"
   ]
  },
  {
   "cell_type": "markdown",
   "metadata": {},
   "source": [
    "coba ekstrak hari libur di indonesia tahun 2021 menggunakan Public Holiday API"
   ]
  },
  {
   "cell_type": "code",
   "execution_count": 15,
   "metadata": {},
   "outputs": [
    {
     "data": {
      "text/plain": [
       "200"
      ]
     },
     "execution_count": 15,
     "metadata": {},
     "output_type": "execute_result"
    }
   ],
   "source": [
    "r = requests.get('https://date.nager.at/api/v3/PublicHolidays/2025/ID')\n",
    "r.status_code"
   ]
  },
  {
   "cell_type": "code",
   "execution_count": 17,
   "metadata": {},
   "outputs": [
    {
     "data": {
      "text/html": [
       "<div>\n",
       "<style scoped>\n",
       "    .dataframe tbody tr th:only-of-type {\n",
       "        vertical-align: middle;\n",
       "    }\n",
       "\n",
       "    .dataframe tbody tr th {\n",
       "        vertical-align: top;\n",
       "    }\n",
       "\n",
       "    .dataframe thead th {\n",
       "        text-align: right;\n",
       "    }\n",
       "</style>\n",
       "<table border=\"1\" class=\"dataframe\">\n",
       "  <thead>\n",
       "    <tr style=\"text-align: right;\">\n",
       "      <th></th>\n",
       "      <th>date</th>\n",
       "      <th>localName</th>\n",
       "      <th>name</th>\n",
       "      <th>countryCode</th>\n",
       "      <th>fixed</th>\n",
       "      <th>global</th>\n",
       "      <th>counties</th>\n",
       "      <th>launchYear</th>\n",
       "      <th>types</th>\n",
       "    </tr>\n",
       "  </thead>\n",
       "  <tbody>\n",
       "    <tr>\n",
       "      <th>0</th>\n",
       "      <td>2025-01-01</td>\n",
       "      <td>Tahun Baru Masehi</td>\n",
       "      <td>New Year's Day</td>\n",
       "      <td>ID</td>\n",
       "      <td>False</td>\n",
       "      <td>True</td>\n",
       "      <td>None</td>\n",
       "      <td>None</td>\n",
       "      <td>[Public]</td>\n",
       "    </tr>\n",
       "    <tr>\n",
       "      <th>1</th>\n",
       "      <td>2025-04-18</td>\n",
       "      <td>Wafat Isa Almasih</td>\n",
       "      <td>Good Friday</td>\n",
       "      <td>ID</td>\n",
       "      <td>False</td>\n",
       "      <td>True</td>\n",
       "      <td>None</td>\n",
       "      <td>None</td>\n",
       "      <td>[Public]</td>\n",
       "    </tr>\n",
       "    <tr>\n",
       "      <th>2</th>\n",
       "      <td>2025-04-20</td>\n",
       "      <td>Paskah</td>\n",
       "      <td>Easter Sunday</td>\n",
       "      <td>ID</td>\n",
       "      <td>False</td>\n",
       "      <td>True</td>\n",
       "      <td>None</td>\n",
       "      <td>None</td>\n",
       "      <td>[Public]</td>\n",
       "    </tr>\n",
       "    <tr>\n",
       "      <th>3</th>\n",
       "      <td>2025-05-01</td>\n",
       "      <td>Hari Buruh Internasional</td>\n",
       "      <td>Labour Day</td>\n",
       "      <td>ID</td>\n",
       "      <td>False</td>\n",
       "      <td>True</td>\n",
       "      <td>None</td>\n",
       "      <td>None</td>\n",
       "      <td>[Public]</td>\n",
       "    </tr>\n",
       "    <tr>\n",
       "      <th>4</th>\n",
       "      <td>2025-05-29</td>\n",
       "      <td>Kenaikan Isa Almasih</td>\n",
       "      <td>Ascension Day</td>\n",
       "      <td>ID</td>\n",
       "      <td>False</td>\n",
       "      <td>True</td>\n",
       "      <td>None</td>\n",
       "      <td>None</td>\n",
       "      <td>[Public]</td>\n",
       "    </tr>\n",
       "    <tr>\n",
       "      <th>5</th>\n",
       "      <td>2025-06-01</td>\n",
       "      <td>Hari Lahir Pancasila</td>\n",
       "      <td>Pancasila Day</td>\n",
       "      <td>ID</td>\n",
       "      <td>False</td>\n",
       "      <td>True</td>\n",
       "      <td>None</td>\n",
       "      <td>None</td>\n",
       "      <td>[Public]</td>\n",
       "    </tr>\n",
       "    <tr>\n",
       "      <th>6</th>\n",
       "      <td>2025-08-17</td>\n",
       "      <td>Hari Ulang Tahun Kemerdekaan Republik Indonesia</td>\n",
       "      <td>Independence Day</td>\n",
       "      <td>ID</td>\n",
       "      <td>False</td>\n",
       "      <td>True</td>\n",
       "      <td>None</td>\n",
       "      <td>None</td>\n",
       "      <td>[Public]</td>\n",
       "    </tr>\n",
       "    <tr>\n",
       "      <th>7</th>\n",
       "      <td>2025-12-25</td>\n",
       "      <td>Hari Raya Natal</td>\n",
       "      <td>Christmas Day</td>\n",
       "      <td>ID</td>\n",
       "      <td>False</td>\n",
       "      <td>True</td>\n",
       "      <td>None</td>\n",
       "      <td>None</td>\n",
       "      <td>[Public]</td>\n",
       "    </tr>\n",
       "  </tbody>\n",
       "</table>\n",
       "</div>"
      ],
      "text/plain": [
       "         date                                        localName  \\\n",
       "0  2025-01-01                                Tahun Baru Masehi   \n",
       "1  2025-04-18                                Wafat Isa Almasih   \n",
       "2  2025-04-20                                           Paskah   \n",
       "3  2025-05-01                         Hari Buruh Internasional   \n",
       "4  2025-05-29                             Kenaikan Isa Almasih   \n",
       "5  2025-06-01                             Hari Lahir Pancasila   \n",
       "6  2025-08-17  Hari Ulang Tahun Kemerdekaan Republik Indonesia   \n",
       "7  2025-12-25                                  Hari Raya Natal   \n",
       "\n",
       "               name countryCode  fixed  global counties launchYear     types  \n",
       "0    New Year's Day          ID  False    True     None       None  [Public]  \n",
       "1       Good Friday          ID  False    True     None       None  [Public]  \n",
       "2     Easter Sunday          ID  False    True     None       None  [Public]  \n",
       "3        Labour Day          ID  False    True     None       None  [Public]  \n",
       "4     Ascension Day          ID  False    True     None       None  [Public]  \n",
       "5     Pancasila Day          ID  False    True     None       None  [Public]  \n",
       "6  Independence Day          ID  False    True     None       None  [Public]  \n",
       "7     Christmas Day          ID  False    True     None       None  [Public]  "
      ]
     },
     "execution_count": 17,
     "metadata": {},
     "output_type": "execute_result"
    }
   ],
   "source": [
    "pd.DataFrame(r.json())"
   ]
  },
  {
   "cell_type": "markdown",
   "metadata": {},
   "source": [
    "# Exercise 2"
   ]
  },
  {
   "cell_type": "markdown",
   "metadata": {},
   "source": [
    "## Berikut adalah 2 API yang akan kita gunakan"
   ]
  },
  {
   "cell_type": "markdown",
   "metadata": {},
   "source": [
    "Random User Generator API\n",
    "\n",
    "- generator: https://randomuser.me/api/\n",
    "\n",
    "Zodiak API\n",
    "\n",
    "- url: https://script.google.com/macros/exec\n",
    "- parameters:"
   ]
  },
  {
   "cell_type": "code",
   "execution_count": null,
   "metadata": {},
   "outputs": [],
   "source": [
    "{\n",
    "    \"service\": \"AKfycbw7gKzP-WVY2F5mc9RaRY3EvJelYJ91J9j1kp_JHSD02dSv9w\",\n",
    "    \"nama\": \"ican\",\n",
    "    \"tanggal\": \"10-08-1990\"\n",
    "}"
   ]
  },
  {
   "cell_type": "markdown",
   "metadata": {},
   "source": [
    "## output yang diharapkan"
   ]
  },
  {
   "cell_type": "code",
   "execution_count": null,
   "metadata": {},
   "outputs": [],
   "source": [
    "{\n",
    "    \"born\": \"1993-10-10\",\n",
    "    \"gender\": \"Female\",\n",
    "    \"first_name\": \"Angela\",\n",
    "    \"last_name\": \"Martinez\",\n",
    "    \"zodiak\": \"Libra\"\n",
    "}"
   ]
  },
  {
   "cell_type": "markdown",
   "metadata": {},
   "source": [
    "## Task 1"
   ]
  },
  {
   "cell_type": "markdown",
   "metadata": {},
   "source": [
    "- Coba buat random user menggunakan Random User Generator API.\n",
    "- Simpan hasil request dalam bentuk json ke variabel result.\n"
   ]
  },
  {
   "cell_type": "markdown",
   "metadata": {},
   "source": [
    "## Task 2"
   ]
  },
  {
   "cell_type": "markdown",
   "metadata": {},
   "source": [
    "- Ekstrak informasi date_of_birth, gender, first_name, last_name dari response, dan simpan ke variabel biodata."
   ]
  },
  {
   "cell_type": "code",
   "execution_count": null,
   "metadata": {},
   "outputs": [],
   "source": [
    "biodata = {\n",
    "    'born': ________,\n",
    "    'gender': ________,\n",
    "    'first_name': ________,\n",
    "    'last_name': ________,\n",
    "}"
   ]
  },
  {
   "cell_type": "markdown",
   "metadata": {},
   "source": [
    "- Ubah format tanggal menjadi hari-bulan-tahun menggunakan kode berikut:"
   ]
  },
  {
   "cell_type": "code",
   "execution_count": null,
   "metadata": {},
   "outputs": [],
   "source": [
    "from dateutil import parser\n",
    "\n",
    "date = parser.parse(biodata[\"born\"])\n",
    "date = date.strftime(\"%d-%m-%Y\")\n",
    "date"
   ]
  },
  {
   "cell_type": "markdown",
   "metadata": {},
   "source": [
    "- Timpa nilai biodata[\"born\"] dengan date."
   ]
  },
  {
   "cell_type": "markdown",
   "metadata": {},
   "source": [
    "## Task 3"
   ]
  },
  {
   "cell_type": "markdown",
   "metadata": {},
   "source": [
    "- Request API Zodiak: Mengambil data zodiak berdasarkan tanggal lahir menggunakan API.\n",
    "- Tambahkan ke Biodata: Hasil zodiak disimpan di variabel biodata dengan kunci zodiak.\n",
    "- Cek Format Akhir: Format output harus sesuai dengan struktur JSON yang diberikan."
   ]
  },
  {
   "cell_type": "code",
   "execution_count": null,
   "metadata": {},
   "outputs": [],
   "source": [
    "{\n",
    "    'born': '1983-10-10',\n",
    "    'gender': 'female',\n",
    "    'first_name': 'Angela',\n",
    "    'last_name': 'Martinez',\n",
    "    'zodiak': 'Libra'\n",
    "}"
   ]
  },
  {
   "cell_type": "markdown",
   "metadata": {},
   "source": [
    "## Task 1"
   ]
  },
  {
   "cell_type": "code",
   "execution_count": 18,
   "metadata": {},
   "outputs": [
    {
     "data": {
      "text/plain": [
       "{'results': [{'gender': 'female',\n",
       "   'name': {'title': 'Mrs', 'first': 'Brigitta', 'last': 'Valentin'},\n",
       "   'location': {'street': {'number': 2132, 'name': 'Schlossstraße'},\n",
       "    'city': 'Lorsch',\n",
       "    'state': 'Berlin',\n",
       "    'country': 'Germany',\n",
       "    'postcode': 20866,\n",
       "    'coordinates': {'latitude': '-54.7250', 'longitude': '90.2221'},\n",
       "    'timezone': {'offset': '-6:00',\n",
       "     'description': 'Central Time (US & Canada), Mexico City'}},\n",
       "   'email': 'brigitta.valentin@example.com',\n",
       "   'login': {'uuid': '2e533d82-1d19-4e42-bb51-ecc5d7f03f9a',\n",
       "    'username': 'bigwolf789',\n",
       "    'password': 'freee',\n",
       "    'salt': '1hL3pkCT',\n",
       "    'md5': 'fb2a3c128da0860597fb808771c05efc',\n",
       "    'sha1': '36fcc25dce9fc395cd908a570d82c81b0bad730b',\n",
       "    'sha256': '657e62af9f72be9892d0397483923a2c3fb4a6b677441dcaa20813fe36677684'},\n",
       "   'dob': {'date': '1987-12-03T14:56:04.189Z', 'age': 37},\n",
       "   'registered': {'date': '2009-06-25T23:13:42.907Z', 'age': 15},\n",
       "   'phone': '0490-2956377',\n",
       "   'cell': '0170-2907915',\n",
       "   'id': {'name': 'SVNR', 'value': '78 031287 V 587'},\n",
       "   'picture': {'large': 'https://randomuser.me/api/portraits/women/83.jpg',\n",
       "    'medium': 'https://randomuser.me/api/portraits/med/women/83.jpg',\n",
       "    'thumbnail': 'https://randomuser.me/api/portraits/thumb/women/83.jpg'},\n",
       "   'nat': 'DE'}],\n",
       " 'info': {'seed': '50a8b82662d3834d',\n",
       "  'results': 1,\n",
       "  'page': 1,\n",
       "  'version': '1.4'}}"
      ]
     },
     "execution_count": 18,
     "metadata": {},
     "output_type": "execute_result"
    }
   ],
   "source": [
    "r = requests.get('https://randomuser.me/api/')\n",
    "result = r.json()\n",
    "result"
   ]
  },
  {
   "cell_type": "markdown",
   "metadata": {},
   "source": [
    "## Task 2"
   ]
  },
  {
   "cell_type": "code",
   "execution_count": 20,
   "metadata": {},
   "outputs": [
    {
     "data": {
      "text/plain": [
       "{'gender': 'female',\n",
       " 'name': {'title': 'Mrs', 'first': 'Brigitta', 'last': 'Valentin'},\n",
       " 'location': {'street': {'number': 2132, 'name': 'Schlossstraße'},\n",
       "  'city': 'Lorsch',\n",
       "  'state': 'Berlin',\n",
       "  'country': 'Germany',\n",
       "  'postcode': 20866,\n",
       "  'coordinates': {'latitude': '-54.7250', 'longitude': '90.2221'},\n",
       "  'timezone': {'offset': '-6:00',\n",
       "   'description': 'Central Time (US & Canada), Mexico City'}},\n",
       " 'email': 'brigitta.valentin@example.com',\n",
       " 'login': {'uuid': '2e533d82-1d19-4e42-bb51-ecc5d7f03f9a',\n",
       "  'username': 'bigwolf789',\n",
       "  'password': 'freee',\n",
       "  'salt': '1hL3pkCT',\n",
       "  'md5': 'fb2a3c128da0860597fb808771c05efc',\n",
       "  'sha1': '36fcc25dce9fc395cd908a570d82c81b0bad730b',\n",
       "  'sha256': '657e62af9f72be9892d0397483923a2c3fb4a6b677441dcaa20813fe36677684'},\n",
       " 'dob': {'date': '1987-12-03T14:56:04.189Z', 'age': 37},\n",
       " 'registered': {'date': '2009-06-25T23:13:42.907Z', 'age': 15},\n",
       " 'phone': '0490-2956377',\n",
       " 'cell': '0170-2907915',\n",
       " 'id': {'name': 'SVNR', 'value': '78 031287 V 587'},\n",
       " 'picture': {'large': 'https://randomuser.me/api/portraits/women/83.jpg',\n",
       "  'medium': 'https://randomuser.me/api/portraits/med/women/83.jpg',\n",
       "  'thumbnail': 'https://randomuser.me/api/portraits/thumb/women/83.jpg'},\n",
       " 'nat': 'DE'}"
      ]
     },
     "execution_count": 20,
     "metadata": {},
     "output_type": "execute_result"
    }
   ],
   "source": [
    "result['results'][0]"
   ]
  },
  {
   "cell_type": "code",
   "execution_count": 21,
   "metadata": {},
   "outputs": [],
   "source": [
    "info = result['results'][0]"
   ]
  },
  {
   "cell_type": "code",
   "execution_count": 22,
   "metadata": {},
   "outputs": [
    {
     "data": {
      "text/plain": [
       "{'born': '1987-12-03T14:56:04.189Z',\n",
       " 'gender': 'female',\n",
       " 'first_name': 'Brigitta',\n",
       " 'last_name': 'Valentin'}"
      ]
     },
     "execution_count": 22,
     "metadata": {},
     "output_type": "execute_result"
    }
   ],
   "source": [
    "biodata = {\n",
    "    'born': info['dob']['date'],\n",
    "    'gender': info['gender'],\n",
    "    'first_name': info['name']['first'],\n",
    "    'last_name': info['name']['last'],\n",
    "}\n",
    "biodata"
   ]
  },
  {
   "cell_type": "code",
   "execution_count": 23,
   "metadata": {},
   "outputs": [
    {
     "data": {
      "text/plain": [
       "'03-12-1987'"
      ]
     },
     "execution_count": 23,
     "metadata": {},
     "output_type": "execute_result"
    }
   ],
   "source": [
    "from dateutil import parser\n",
    "\n",
    "date = parser.parse(biodata[\"born\"])\n",
    "date = date.strftime(\"%d-%m-%Y\")\n",
    "date"
   ]
  },
  {
   "cell_type": "code",
   "execution_count": 24,
   "metadata": {},
   "outputs": [
    {
     "data": {
      "text/plain": [
       "{'born': '03-12-1987',\n",
       " 'gender': 'female',\n",
       " 'first_name': 'Brigitta',\n",
       " 'last_name': 'Valentin'}"
      ]
     },
     "execution_count": 24,
     "metadata": {},
     "output_type": "execute_result"
    }
   ],
   "source": [
    "biodata['born'] = date\n",
    "biodata"
   ]
  },
  {
   "cell_type": "markdown",
   "metadata": {},
   "source": [
    "## Task 3"
   ]
  },
  {
   "cell_type": "code",
   "execution_count": 26,
   "metadata": {},
   "outputs": [
    {
     "data": {
      "text/plain": [
       "200"
      ]
     },
     "execution_count": 26,
     "metadata": {},
     "output_type": "execute_result"
    }
   ],
   "source": [
    "params = {\n",
    "    \"service\": \"AKfycbywRYYUjvLXuKA0Ad2CUJta3lRDA6RTtHMzWMmFY9jaPzqa9WdWgO9iROHQxi_L9qqK\",\n",
    "    \"nama\": biodata[\"first_name\"],  \n",
    "    \"tanggal\": biodata[\"born\"]    \n",
    "}\n",
    "r = requests.get(\"https://script.google.com/macros/exec\", params=params)\n",
    "r.status_code"
   ]
  },
  {
   "cell_type": "code",
   "execution_count": 27,
   "metadata": {},
   "outputs": [
    {
     "data": {
      "text/plain": [
       "{'status': 'success',\n",
       " 'date': '17-12-2024',\n",
       " 'aries': 'Iklim astral:\\nJangan ragu-ragu untuk membuat rencana tertentu; keraguan Anda telah ditemukan. Sekarang bukan saatnya untuk melibatkan diri pada pekerjaan-pekerjaan utama. Tidurlah dulu, Anda butuh istirahat, dan itu akan membuat Anda lebih mudah berpikir.\\n\\nKelucuan:\\nSudah waktunya untuk memikirkan kebahagiaan Anda dan menolak untuk membuat konsesi yang sulit untuk ditanggung.\\n\\nCinta:\\nAnda akan mencapai sebuah tingkat pertemenan yang baru dalam kehidupan percintaan Anda yang akan membawa Anda jauh melebihi apa yang pernah Anda harapkan. Anda akan mendapat beberapa kejutan yang akan membuat Anda berada dalam suasana hati yang baik.\\n\\nUang:\\nIni adalah hari yang baik untuk dialog bisnis, tapi Anda harus berusaha untuk tidak membuang-buang energi Anda pada detail yang sia-sia.\\n\\nPekerjaan:\\nAnda akan merasa sulit untuk menjadi figur utama hari ini. Berusahalah menyelesaikan projek-projek untuk bulan-bulan kedepan.\\n\\n',\n",
       " 'taurus': 'Iklim astral:\\nAnda merasa mudah untuk berurusan dengan rintangan, dan Anda akan tahu bagaimana untuk menghindari orang lain. Anda menempatkan semua energi Anda ke dalam tindakan yang konstruktif. Pikirkan tentang rileksasi untuk menjaga keseimbangan.\\n\\nKelucuan:\\nAnda lebih optimis dan orang di sekitar Anda dapat melihatnya... Ini adalah kesempatan bagi Anda untuk merasa bermanfaat.\\n\\nCinta:\\nLove is at the centre of your thinking, tinged with mysticism, romanticism and idealism. Now is the time to build bridges between dreams and reality. Focus on the detail.\\n\\nUang:\\nAnda akan menempatkan sentuhan pribadi Anda pada keputusan keuangan Anda hari ini. Laju akan dipercepat dan itu menguntungkan.\\n\\nPekerjaan:\\nJika Anda memperhatikan detil-detil kecil, Anda akan mempunyai pandangan yang lebih jelas dalam pekerjaan Anda. Jangan abaikan hal ini.\\n\\n',\n",
       " 'gemini': 'Iklim astral:\\nAnda akan sukses dalam apa yang Anda lakukan. Ini adalah waktunya untuk memilah-milah dokumen Anda. Dahaga Anda untuk hidup menghasut Anda menjadi serakah. Jangan menghabiskan terlalu banyak waktu di sana, dan berharap lebih dari yang Anda punya. Anda akan memiliki hal-hal lebih baik untuk dilakukan.\\n\\nKelucuan:\\nKabar baik akan datang dari teman-teman di sekitar Anda. Anda benar untuk menunggu dengan sabar, buktinya akan terjadi.\\n\\nCinta:\\nCara Anda meminta bantuan dapat menimbulkan perselisihan yang tidak Anda inginkan. Bersikaplah diplomatik. Jika Anda membutuhkan bantuan, ada cara lain yang dapat berfungsi dengan baik.\\n\\nUang:\\nAnda akan mampu mengembangkan sesuatu yang sangat menguntungkan… sekarang adalah waktunya untuk benar-benar menunjukkan apa yang bisa Anda lakukan.\\n\\nPekerjaan:\\nSikap diplomasi Anda dan perhatian Anda terhadap detil akan memungkinkan Anda untuk disenangi oleh para atasan Anda.\\n\\n',\n",
       " 'cancer': 'Iklim astral:\\nJiwa petualang Anda akan muncul hari ini. Anda akan mendapat keberuntungan berkat risiko penuh perhitungan yang telah Anda ambil. Tetapi, jangan bertindak terlalu jauh sehingga Anda tidak menggunakan cadangan energi Anda terlalu banyak.\\n\\nKelucuan:\\nKembalilah ke asal Anda; habiskan waktu Anda bersama teman-teman Anda yang sesungguhnya dan tulus. Ini akan membantu Anda menghilangkan pikiran-pikiran sesat.\\n\\nCinta:\\nJika Anda lajang, Anda akan mendapatkan pertemuan yang dipenuhi keberuntungan. Ini adalah saatnya untuk mengatasi hal-hal yang janggal dengan pasangan Anda. Anda akan takjub dengan hasilnya. Anda telah salah menilai situasi Anda ada.\\n\\nUang:\\nJangan membuat diri Anda merasa bersalah dan terus menyiksa diri Anda dengan sia-sia. Berkonsentrasilah pada apa yang bisa Anda kerjakan saat ini.\\n\\nPekerjaan:\\nAnda akan merasa nyaman dengan kehangatan hubungan Anda dengan orang-orang di sekitar Anda. Anda akan menjadi tidak tergantikan, dan Anda sadar akan hal ini.\\n\\n',\n",
       " 'leo': 'Iklim astral:\\nHindarilah untuk terlibat dalam projek yang meragukan dan beresiko. Janganlah berpaling dari tujuan dan Anda akan berada dalam jalur yang tepat. Keletihan akan kekhawatiran Anda setiap hari akan memberatkan Anda dan inilah saat tepat untuk mulai berolahraga. Olahraga yang tenang akan menjadi pilihan yang tepat.\\n\\nKelucuan:\\nSegala sesuatu tampak kabur sepanjang hari ini, yang akan sesuai dengan suasana hati Anda dengan baik! Anda akan memiliki beberapa percakapan yang menyenangkan.\\n\\nCinta:\\nIni adalah hari yang ideal untuk mengekspresikan perasaan Anda dan melibatkan diri Anda dengan sepenuh hati. Akuilah ini adalah apa yang Anda butuhkan untuk menghilangkan ketertutupan Anda.\\n\\nUang:\\nBeberapa aktivitas yang sangat berbeda sedang menunggu Anda. Anda tidak akan menjadi bosan, tapi berhati-hatilah terhadap pengeluaran yang impulsif.\\n\\nPekerjaan:\\nAnda akan harus membuat keputusan-keputusan penting dengan cepat. Percayalah kemampuan Anda dalam membuat analisa.\\n\\n',\n",
       " 'virgo': 'Iklim astral:\\nPerubahan yang Anda buat terhadap pola kerja Anda akan memberikan Anda keberuntungan. Jangan menundanya! Anda akan menggunakan lebih sedikit energi jika Anda melestarikan momen-momen kesunyian dan keintiman. Terlalu banyak yang terjadi di sekitar Anda!\\n\\nKelucuan:\\nHindari atmosfir-atmosfir yang buruk. Cara terbaik untuk melakukan ini adalah dengan menghabiskan waktu Anda dengan teman-teman Anda.\\n\\nCinta:\\nAnda akan tertarik oleh budaya-budaya yang berbeda, hal-hal yang tidak biasa, dan hal ini akan tercermin dalam kehidupan percintaan Anda hari ini. Jangan menyia-nyiakan waktu menganalisa sesuatu yang hanya akan berujung pada penyesalan - jalani hidup Anda!\\n\\nUang:\\nIni adalah waktu yang tepat untuk memulai sebuah projek kolektif, atau menyelesaikan sebuah studi atau penelitian.\\n\\nPekerjaan:\\nKebutuhan Anda untuk mandiri dan bebas membuat Anda memberontak terhadap pihak berwenang. Berpikirlah dengan hati-hati sebelum Anda berbicara.\\n\\n',\n",
       " 'libra': 'Iklim astral:\\nAnda bagai berada di tengah panggung dan tidak akan menghapi masalah untuk mempengaruhi orang lain untuk kerja bersama Anda. Hindarilah perderbatan yang membuang energi. Anda akan menang, jangalah ragu.\\n\\nKelucuan:\\nAnda sangat baik terhadap semua orang dan suasana antara orang-orang menjadi lebih sehat... Anda merasa seperti di rumah!\\n\\nCinta:\\nAnda akan merasa sangat penting untuk mengekspresikan diri Anda secara konstruktif kepada pasangan anda. Anda akan berpikir dengan lebih rasional, dan hal ini akan memungkinkan Anda untuk mengatasi detil-detil yang biasanya menimbukan reaksi negatif dari Anda.\\n\\nUang:\\nMasalah keuangan tidak akan serumit biasanya - tindakan-tindakan Anda tidak akan terhambat.\\n\\nPekerjaan:\\nSebuah perasaan puas akan memungkinkan Anda untuk berhenti sejenak. Jangan ragu untuk melihat hal-hal dari jauh.\\n\\n',\n",
       " 'scorpio': 'Iklim astral:\\nAnda tidak akan punya masalah untuk berdebat tentang sudut pandang Anda. Tapi, jangan terlalu berlebihan. Bersikaplah diplomatik. Aktivitas otak Anda yang sangat bergairah dapat membuat Anda bertindak berlebihan secara fisik.\\n\\nKelucuan:\\nAnda memiliki visi yang lebih jelas tentang masa depan Anda dan akan mengatasi masalah dengan cara yang benar dan dengan objektivitas.\\n\\nCinta:\\nAnda akan mampu melihat perbedaan-perbedaan Anda dengan pasangan Anda jika Anda berhenti sejenak dan mencoba melihat keadaan. Hal ini akan memungkinkan Anda untuk mengerti cara berhubungan dengannya, memperbaiki strategi Anda, dan mengambil keputusan yang tepat.\\n\\nUang:\\nAnda akan dipaksa untuk melihat bahwa beberapa ide Anda adalah benar dan Anda akan harus mengakuinya.\\n\\nPekerjaan:\\nBantuan yang sangat luar biasa akan jatuh ke pangkuan Anda… Anda akan mempunyai keberuntungan yang tidak terduga dalam menghadapi kesulitan.\\n\\n',\n",
       " 'sagitarius': 'Iklim astral:\\nDiskusi dengan keluarga menjadi lebih mudah. Anda akan mendapatkan lebih banyak kepuasan jika Anda tidak hanya berdiam diri. Anda akan punya energi yang dibutuhkan untuk menyelesaikan tugas Anda dengan sukses. Anda perlu untuk berhenti sejenak sebelum Anda bertindak berlebihan. Jangan terburu-buru.\\n\\nKelucuan:\\nSituasi-situasi lama sedang menuju kembali pada Anda, melalui pertemuan, surat, atau telepon.. Berhati-hatilah.\\n\\nCinta:\\nKurangnya keamanan emosional bisa membuat Anda gugup... ini tidak akan menyelesaikan apa-apa. Hal terbaik dalam jangka panjang adalah berbicara dengan tenang dan terbuka. Keluarlah dari cangkang Anda!\\n\\nUang:\\nSemua hal akan lebih tenang ketika Anda mencapai sebuah keseimbangan yang memuaskan dalam pengeluaran Anda. Ada dunia-dunia baru untuk dilihat.\\n\\nPekerjaan:\\nAnda tidak harus membiarkan permasalahan menghalangi jalur Anda… berikan sedikit upaya dan semuanya akan berjalan dengan baik.\\n\\n',\n",
       " 'capricorn': 'Iklim astral:\\nAnda tidak akan memiliki waktu yang Anda butuhkan untuk menjauhkan diri - Anda harus bertindak cepat. Hindari angin yang datang dari jendela atau pintu dan hindari pergantian suhu. Anda perlu tidur untuk mengisi ulang energi Anda.\\n\\nKelucuan:\\nAnda akan merasa dari orang di sekitar Anda dan tentu menjadi obyek penghargaan besar.\\n\\nCinta:\\nJangan terlalu kukuh pada cara Anda. Apapun masalah Anda, akan lebih baik untuk membicarakannya kepada seseorang yang bisa Anda percayai tentang hal tersebut.\\n\\nUang:\\nIni adalah hari yang baik untuk dialog bisnis, tapi Anda harus berusaha untuk tidak membuang-buang energi Anda pada detail yang sia-sia.\\n\\nPekerjaan:\\nAnda tidak dalam mood untuk bekerja, murni dan sederhana. Sebaliknya, coba memperkuat hubungan Anda tanpa mendorong apa pun hari ini.\\n\\n',\n",
       " 'aquarius': 'Iklim astral:\\nPerubahan yang Anda buat terhadap pola kerja Anda akan memberikan Anda keberuntungan. Jangan menundanya! Anda akan menggunakan lebih sedikit energi jika Anda melestarikan momen-momen kesunyian dan keintiman. Terlalu banyak yang terjadi di sekitar Anda!\\n\\nKelucuan:\\nAnda melakukan hal yang tepat dengan menolak pengaruh-pengaruh tertentu. Bersikaplah berani dan ikuti bintang Anda. Anda tidak akan menyesalinya.\\n\\nCinta:\\nSecara emosional, Anda akan berada di ujung. Anda akan menggunakannya baik sebagai sebuah kesempatan untuk mengatakan apa yang ada di pikiran Anda, atau Anda akan mencoba untuk menutup diri Anda. Singkirkan keraguan-keraguan yang tidak nyata tersebut dan majulah kedepan!\\n\\nUang:\\nAnda terjun bebas... Dan dengan alasan yang bagus. Anda bisa mengambil inisiatif lebih dari biasanya.\\n\\nPekerjaan:\\nHari ini Anda akan berada di tahap persiapan. Upaya Anda akan membuahkan hasil bulan depan.\\n\\n',\n",
       " 'pisces': 'Iklim astral:\\nAnda akan memetik hasil dari upaya yang Anda kerjakan bulan lalu. Sekarang, hasil itu akan menjadi sesuatu untuk Anda rayakan! Perasaan kesejahteraan dalam batin akan memungkinkan Anda untuk menempatkan sejumlah ide-ide anda menjadi perspektif.\\n\\nKelucuan:\\nAnda akan melewati berbagai jenis emosi. Anda akan mampu untuk berpindah dari tawa menjadi tangis hari ini. Tetaplah bertindak sewajarnya.\\n\\nCinta:\\nAnda akan dapat memilah-milah apa yang perlu diurutkan dalam suasana tenang dan intim! Dan tanpa melalui perantara meragukan - pikirkan tentang hal ini!\\n\\nUang:\\nNilai sesungguhnya dari bakat dan kepribadian Anda akan diakui hari ini. Keberuntungan ada di sisi Anda.\\n\\nPekerjaan:\\nAnda terlihat seperti kurang tertarik. Jangan meragukan diri Anda dan ikutilah kebutuhan Anda untuk beristirahat. Dengan begitu, Anda akan punya kesempatan untuk memulai sesuatu dengan penuh semangat.\\n\\n'}"
      ]
     },
     "execution_count": 27,
     "metadata": {},
     "output_type": "execute_result"
    }
   ],
   "source": [
    "result = r.json()\n",
    "result"
   ]
  },
  {
   "cell_type": "code",
   "execution_count": 28,
   "metadata": {},
   "outputs": [
    {
     "data": {
      "text/plain": [
       "{'born': '03-12-1987',\n",
       " 'gender': 'female',\n",
       " 'first_name': 'Brigitta',\n",
       " 'last_name': 'Valentin',\n",
       " 'zodiak': 'Iklim astral:\\nHindarilah untuk terlibat dalam projek yang meragukan dan beresiko. Janganlah berpaling dari tujuan dan Anda akan berada dalam jalur yang tepat. Keletihan akan kekhawatiran Anda setiap hari akan memberatkan Anda dan inilah saat tepat untuk mulai berolahraga. Olahraga yang tenang akan menjadi pilihan yang tepat.\\n\\nKelucuan:\\nSegala sesuatu tampak kabur sepanjang hari ini, yang akan sesuai dengan suasana hati Anda dengan baik! Anda akan memiliki beberapa percakapan yang menyenangkan.\\n\\nCinta:\\nIni adalah hari yang ideal untuk mengekspresikan perasaan Anda dan melibatkan diri Anda dengan sepenuh hati. Akuilah ini adalah apa yang Anda butuhkan untuk menghilangkan ketertutupan Anda.\\n\\nUang:\\nBeberapa aktivitas yang sangat berbeda sedang menunggu Anda. Anda tidak akan menjadi bosan, tapi berhati-hatilah terhadap pengeluaran yang impulsif.\\n\\nPekerjaan:\\nAnda akan harus membuat keputusan-keputusan penting dengan cepat. Percayalah kemampuan Anda dalam membuat analisa.\\n\\n'}"
      ]
     },
     "execution_count": 28,
     "metadata": {},
     "output_type": "execute_result"
    }
   ],
   "source": [
    "biodata['zodiak'] = result['leo']\n",
    "biodata"
   ]
  },
  {
   "cell_type": "markdown",
   "metadata": {},
   "source": [
    "# POST Request"
   ]
  }
 ],
 "metadata": {
  "kernelspec": {
   "display_name": "Python 3",
   "language": "python",
   "name": "python3"
  },
  "language_info": {
   "codemirror_mode": {
    "name": "ipython",
    "version": 3
   },
   "file_extension": ".py",
   "mimetype": "text/x-python",
   "name": "python",
   "nbconvert_exporter": "python",
   "pygments_lexer": "ipython3",
   "version": "3.12.3"
  }
 },
 "nbformat": 4,
 "nbformat_minor": 2
}
